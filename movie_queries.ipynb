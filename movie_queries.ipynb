{
 "cells": [
  {
   "cell_type": "markdown",
   "metadata": {},
   "source": [
    "### Queries on the movie database"
   ]
  },
  {
   "cell_type": "code",
   "execution_count": null,
   "metadata": {
    "application/vnd.databricks.v1+cell": {
     "inputWidgets": {},
     "nuid": "d4486a04-f810-4b55-8b81-48388c146e77",
     "showTitle": false,
     "title": ""
    }
   },
   "outputs": [],
   "source": [
    "# reading the cleaned data from the stored parquet files in spark dataframes\n",
    "df_movie = spark.read.parquet(f\"{root_path}filtered_data/movies.parquet\")\n",
    "df_lang = spark.read.parquet(f\"{root_path}filtered_data/spoken_languages.parquet\")\n",
    "df_cast = spark.read.parquet(f\"{root_path}filtered_data/cast.parquet\")\n",
    "df_genre = spark.read.parquet(f\"{root_path}filtered_data/genres.parquet\")\n",
    "df_crew = spark.read.parquet(f\"{root_path}filtered_data/crew.parquet\")\n",
    "df_recom = spark.read.parquet(f\"{root_path}filtered_data/recom.parquet\")\n",
    "df_pcompanies = spark.read.parquet(f\"{root_path}filtered_data/production_companies.parquet\")"
   ]
  },
  {
   "cell_type": "markdown",
   "metadata": {
    "application/vnd.databricks.v1+cell": {
     "inputWidgets": {},
     "nuid": "dc844ba8-e246-4c97-89af-18897d356e12",
     "showTitle": false,
     "title": ""
    }
   },
   "source": [
    "<b> Question 1: </b> \\\n",
    "*Which movie genres have the most movies with a runtime over 120 minutes and how many movies? Please list the top three movie genres.*"
   ]
  },
  {
   "cell_type": "code",
   "execution_count": null,
   "metadata": {
    "application/vnd.databricks.v1+cell": {
     "inputWidgets": {},
     "nuid": "a5ad3265-68be-49ca-a0fe-2b0f9ed25423",
     "showTitle": false,
     "title": ""
    }
   },
   "outputs": [
    {
     "data": {
      "text/html": [
       "<style scoped>\n",
       "  .table-result-container {\n",
       "    max-height: 300px;\n",
       "    overflow: auto;\n",
       "  }\n",
       "  table, th, td {\n",
       "    border: 1px solid black;\n",
       "    border-collapse: collapse;\n",
       "  }\n",
       "  th, td {\n",
       "    padding: 5px;\n",
       "  }\n",
       "  th {\n",
       "    text-align: left;\n",
       "  }\n",
       "</style><div class='table-result-container'><table class='table-result'><thead style='background-color: white'><tr><th>name</th><th>count</th></tr></thead><tbody><tr><td>Drama</td><td>672</td></tr><tr><td>Action</td><td>298</td></tr><tr><td>Thriller</td><td>246</td></tr></tbody></table></div>"
      ]
     },
     "metadata": {},
     "output_type": "display_data"
    }
   ],
   "source": [
    "(df_genre\n",
    " \n",
    "     # join df_genre with df_movie\n",
    "    .join(df_movie, on=df_genre.id==df_movie.id) \n",
    " \n",
    "     # filter for movies with runtime over 120 minutes\n",
    "    .where(f.col(\"runtime\")>120)\n",
    " \n",
    "     # count movies per genre\n",
    "    .groupBy(\"name\")\n",
    "    .count()\n",
    " \n",
    "     # order results by count in descending order with a limit of 3\n",
    "    .orderBy(\"count\", ascending=False)\n",
    "    .limit(3)\n",
    "    .display())"
   ]
  },
  {
   "cell_type": "markdown",
   "metadata": {
    "application/vnd.databricks.v1+cell": {
     "inputWidgets": {},
     "nuid": "ef645bd7-75a9-4fe3-afca-dbedaffd32a7",
     "showTitle": false,
     "title": ""
    }
   },
   "source": [
    "<b> Answer: </b> \\\n",
    "The movie genres \"Drama\", \"Action\" and \"Thriller\" have the most movies with a runtime over 120 minutes."
   ]
  },
  {
   "cell_type": "markdown",
   "metadata": {
    "application/vnd.databricks.v1+cell": {
     "inputWidgets": {},
     "nuid": "a3b018b9-feb6-40ff-9f45-c9306c48c7a8",
     "showTitle": false,
     "title": ""
    }
   },
   "source": [
    "<b> Question 2: </b> \\\n",
    "*In how many movies did the actor Johnny Depp take part in as an actor?*"
   ]
  },
  {
   "cell_type": "code",
   "execution_count": null,
   "metadata": {
    "application/vnd.databricks.v1+cell": {
     "inputWidgets": {},
     "nuid": "fe790a73-daa6-4fbe-bffb-6804a078dc48",
     "showTitle": false,
     "title": ""
    }
   },
   "outputs": [
    {
     "data": {
      "text/plain": [
       "The actor Johnny Depp did take part in 40 movies as an actor.\n"
      ]
     },
     "metadata": {},
     "output_type": "display_data"
    }
   ],
   "source": [
    "jd_movies = (df_cast\n",
    "     # filtering column name for Johnny Depp and count occurencies\n",
    "    .where(f.col(\"name\")==\"Johnny Depp\")\n",
    "    .count())\n",
    "\n",
    "print(f\"The actor Johnny Depp did take part in {jd_movies} movies as an actor.\")"
   ]
  },
  {
   "cell_type": "markdown",
   "metadata": {
    "application/vnd.databricks.v1+cell": {
     "inputWidgets": {},
     "nuid": "d7b8fff6-04b6-4d27-8562-b2194aed55e4",
     "showTitle": false,
     "title": ""
    }
   },
   "source": [
    "<b> Answer: </b> \\\n",
    "The actor Johnny Depp did take part in 40 movies as an actor."
   ]
  },
  {
   "cell_type": "markdown",
   "metadata": {
    "application/vnd.databricks.v1+cell": {
     "inputWidgets": {},
     "nuid": "0d493e69-8376-4388-9864-6eb88413e0d3",
     "showTitle": false,
     "title": ""
    }
   },
   "source": [
    "*In how many of those did he also act as a producer?*"
   ]
  },
  {
   "cell_type": "code",
   "execution_count": null,
   "metadata": {
    "application/vnd.databricks.v1+cell": {
     "inputWidgets": {},
     "nuid": "bdf6790a-5d62-40a6-a51a-3f3a17153ab4",
     "showTitle": false,
     "title": ""
    }
   },
   "outputs": [
    {
     "data": {
      "text/plain": [
       "Out[20]: 3"
      ]
     },
     "metadata": {},
     "output_type": "display_data"
    }
   ],
   "source": [
    "(df_cast\n",
    "     # joining df_cast with df_crew\n",
    "     .join(df_crew, on=df_cast.id==df_crew.id)\n",
    " \n",
    "     # filter for Johnny Depp appearing as Actor as well as Producer or Executive Producer\n",
    "     .where(\n",
    "         (df_cast.name==\"Johnny Depp\")\n",
    "          & (df_crew.name==\"Johnny Depp\")\n",
    "          & ((df_crew.job==\"Producer\") | (df_crew.job==\"Executive Producer\")))\n",
    "     .count())"
   ]
  },
  {
   "cell_type": "markdown",
   "metadata": {
    "application/vnd.databricks.v1+cell": {
     "inputWidgets": {},
     "nuid": "be5f7606-d956-4f9e-af3c-f1e8bb821a9c",
     "showTitle": false,
     "title": ""
    }
   },
   "source": [
    "<b> Answer: </b> \\\n",
    "Under the assumption that \"Executive Producer\" also counts as Producer, Johnny Depp acted in 3 movies as a Producer or Executive Producer."
   ]
  },
  {
   "cell_type": "markdown",
   "metadata": {
    "application/vnd.databricks.v1+cell": {
     "inputWidgets": {},
     "nuid": "aee81f65-2a3e-478f-8248-73065ac31a19",
     "showTitle": false,
     "title": ""
    }
   },
   "source": [
    "<b> Question 3: </b> \\\n",
    "*List the names and the revenue of the ten movies with the most revenue which were released before 2015.*"
   ]
  },
  {
   "cell_type": "code",
   "execution_count": null,
   "metadata": {
    "application/vnd.databricks.v1+cell": {
     "inputWidgets": {},
     "nuid": "16763530-cf87-44a8-b65f-c68ea26d8949",
     "showTitle": false,
     "title": ""
    }
   },
   "outputs": [
    {
     "data": {
      "text/html": [
       "<style scoped>\n",
       "  .table-result-container {\n",
       "    max-height: 300px;\n",
       "    overflow: auto;\n",
       "  }\n",
       "  table, th, td {\n",
       "    border: 1px solid black;\n",
       "    border-collapse: collapse;\n",
       "  }\n",
       "  th, td {\n",
       "    padding: 5px;\n",
       "  }\n",
       "  th {\n",
       "    text-align: left;\n",
       "  }\n",
       "</style><div class='table-result-container'><table class='table-result'><thead style='background-color: white'><tr><th>title</th><th>revenue</th></tr></thead><tbody><tr><td>Avatar</td><td>2.78796672E9</td></tr><tr><td>Titanic</td><td>1.84506394E9</td></tr><tr><td>The Avengers</td><td>1.51957478E9</td></tr><tr><td>Frozen</td><td>1.27419878E9</td></tr><tr><td>Iron Man 3</td><td>1.21544845E9</td></tr><tr><td>Transformers: Dark of the Moon</td><td>1.12377216E9</td></tr><tr><td>The Lord of the Rings: The Return of the King</td><td>1.11890253E9</td></tr><tr><td>Skyfall</td><td>1.10854797E9</td></tr><tr><td>Transformers: Age of Extinction</td><td>1.0914121E9</td></tr><tr><td>The Dark Knight Rises</td><td>1.08498726E9</td></tr></tbody></table></div>"
      ]
     },
     "metadata": {},
     "output_type": "display_data"
    }
   ],
   "source": [
    "(df_movie\n",
    "     # filter for release_date before 2015\n",
    "     .where(\n",
    "        f.year(f.to_date(\"release_date\", \"yyyy-MM-dd\"))<2015)\n",
    " \n",
    "     # cast revenue to float \n",
    "     .withColumn(\"revenue\", df_movie.revenue.astype(t.FloatType()))\n",
    " \n",
    "     # ordering by revenue and selecting title and revenue with a limit of 10\n",
    "     .orderBy(\"revenue\", ascending=False)\n",
    "     .select(\"title\", \"revenue\")\n",
    "     .limit(10)\n",
    "     .display()\n",
    ")"
   ]
  },
  {
   "cell_type": "markdown",
   "metadata": {},
   "source": [
    "<b> Answer: </b> \\\n",
    "The ten movies listed above are the movies, which were released before 2015 and have the most revenue. The one with best revenue is 'Avatar'."
   ]
  },
  {
   "cell_type": "code",
   "execution_count": null,
   "metadata": {
    "application/vnd.databricks.v1+cell": {
     "inputWidgets": {},
     "nuid": "13f0a78f-630e-4fbd-b9b0-88efcc9ce82c",
     "showTitle": false,
     "title": ""
    }
   },
   "outputs": [
    {
     "data": {
      "text/html": [
       "<style scoped>\n",
       "  .table-result-container {\n",
       "    max-height: 300px;\n",
       "    overflow: auto;\n",
       "  }\n",
       "  table, th, td {\n",
       "    border: 1px solid black;\n",
       "    border-collapse: collapse;\n",
       "  }\n",
       "  th, td {\n",
       "    padding: 5px;\n",
       "  }\n",
       "  th {\n",
       "    text-align: left;\n",
       "  }\n",
       "</style><div class='table-result-container'><table class='table-result'><thead style='background-color: white'><tr><th>title</th><th>(revenue / budget)</th><th>revenue</th><th>budget</th></tr></thead><tbody><tr><td>House of Flying Daggers</td><td>128791.59223300971</td><td>92858738</td><td>721</td></tr><tr><td>The Odd Life of Timothy Green</td><td>11654.044933722758</td><td>51872154</td><td>4451</td></tr><tr><td>Shaolin Soccer</td><td>11611.181423139598</td><td>42752370</td><td>3682</td></tr><tr><td>Chernobyl Diaries</td><td>7810.454506252695</td><td>18112444</td><td>2319</td></tr><tr><td>Girl with a Pearl Earring</td><td>7544.356371490281</td><td>31437333</td><td>4167</td></tr><tr><td>Crocodile Dundee II</td><td>6990.519738569719</td><td>239586083</td><td>34273</td></tr><tr><td>Garfield: A Tail of Two Kitties</td><td>6833.255353009259</td><td>141694383</td><td>20736</td></tr><tr><td>Sympathy for Lady Vengeance</td><td>5636.224644549763</td><td>23784868</td><td>4220</td></tr><tr><td>Scooby-Doo 2: Monsters Unleashed</td><td>5249.511611765046</td><td>181512363</td><td>34577</td></tr><tr><td>The Blair Witch Project</td><td>4872.991316306483</td><td>248035258</td><td>50900</td></tr></tbody></table></div>"
      ]
     },
     "metadata": {},
     "output_type": "display_data"
    }
   ],
   "source": [
    "(df_movie\n",
    "     # filter for release_date before 2015\n",
    "    .where(\n",
    "        f.year(f.to_date(\"release_date\", \"yyyy-MM-dd\"))< 2015)\n",
    " \n",
    "     # calculate revenue divided by budget\n",
    "    .select(\"title\", f.col(\"revenue\")/f.col(\"budget\"), \"revenue\", \"budget\")\n",
    " \n",
    "     # ordering after the calculated column\n",
    "    .orderBy(\"(revenue / budget)\", ascending=False)\n",
    "    .limit(10)\n",
    "    .display())"
   ]
  },
  {
   "cell_type": "markdown",
   "metadata": {},
   "source": [
    "<b> Answer: </b> \\\n",
    "When comparing the revenue to the budget the ten movies listed above are the financially most succesful. The movie 'House of Flying Daggers' is in this respect the best."
   ]
  },
  {
   "cell_type": "markdown",
   "metadata": {
    "application/vnd.databricks.v1+cell": {
     "inputWidgets": {},
     "nuid": "644183e9-dc29-4142-8689-a48ce5b1d046",
     "showTitle": false,
     "title": ""
    }
   },
   "source": [
    "<b> Question 4: </b> \\\n",
    "*What is the movie genre that has a median rating of at least 3 (over all movies with at least ten recommendations) with the lowest average production budget considering all movies?*"
   ]
  },
  {
   "cell_type": "code",
   "execution_count": null,
   "metadata": {
    "application/vnd.databricks.v1+cell": {
     "inputWidgets": {},
     "nuid": "ca9a6ce4-2026-4809-852e-784f3bd93fac",
     "showTitle": false,
     "title": ""
    }
   },
   "outputs": [
    {
     "data": {
      "text/html": [
       "<style scoped>\n",
       "  .table-result-container {\n",
       "    max-height: 300px;\n",
       "    overflow: auto;\n",
       "  }\n",
       "  table, th, td {\n",
       "    border: 1px solid black;\n",
       "    border-collapse: collapse;\n",
       "  }\n",
       "  th, td {\n",
       "    padding: 5px;\n",
       "  }\n",
       "  th {\n",
       "    text-align: left;\n",
       "  }\n",
       "</style><div class='table-result-container'><table class='table-result'><thead style='background-color: white'><tr><th>genreName</th><th>avg_budget</th></tr></thead><tbody><tr><td>Foreign</td><td>657476.5294117647</td></tr></tbody></table></div>"
      ]
     },
     "metadata": {},
     "output_type": "display_data"
    }
   ],
   "source": [
    "# first getting all the movies with at least 10 recommendations\n",
    "filtered_movies = (df_recom\n",
    "                      .groupBy(\"movie_id\")\n",
    "                      .count()\n",
    "                      .where(f.col(\"count\")>9))\n",
    "\n",
    "# filter genres by their median rating\n",
    "filtered_genres = (df_genre\n",
    "                      .withColumn(\"genreName\", f.col(\"name\"))\n",
    "                      .join(df_recom, on=df_genre.id==df_recom.movie_id)\n",
    "                      .join(filtered_movies, on=filtered_movies.movie_id==df_genre.id)\n",
    "                      .groupBy(\"genreName\")\n",
    "                       # calculating the median: 50th percentile corresponds to median\n",
    "                      .agg(f.expr(\"percentile_approx(vote, 0.5)\").alias(\"median_rating\"))\n",
    "                      .where(f.col(\"median_rating\")>=3)\n",
    "                      .select(\"genreName\"))\n",
    "\n",
    "# join filtered dataframes together and calculate the average budget per genre\n",
    "(df_genre\n",
    "    .join(filtered_genres, on=df_genre.name==filtered_genres.genreName)\n",
    "    .join(df_movie, on=df_genre.id==df_movie.id)\n",
    "    .groupBy(\"genreName\")\n",
    "     # calculate the average budget per genre\n",
    "    .agg(f.avg(\"budget\").alias(\"avg_budget\"))\n",
    "    .orderBy(\"avg_budget\")\n",
    "    .limit(1)\n",
    "    .display())"
   ]
  },
  {
   "cell_type": "markdown",
   "metadata": {},
   "source": [
    "<b> Answer: </b> \\\n",
    "The movie genre 'Foreign' is the genre, which has a median rating of at least 3 with at least 10 recommendations and the lowest average production budget of roughly 657476 considering all movies."
   ]
  },
  {
   "cell_type": "markdown",
   "metadata": {
    "application/vnd.databricks.v1+cell": {
     "inputWidgets": {},
     "nuid": "e516baff-a4ac-4447-9081-5c2809e56e2f",
     "showTitle": false,
     "title": ""
    }
   },
   "source": [
    "<b> Question 5: </b>\\\n",
    "*How many movies were written by a female writer?*"
   ]
  },
  {
   "cell_type": "code",
   "execution_count": null,
   "metadata": {
    "application/vnd.databricks.v1+cell": {
     "inputWidgets": {},
     "nuid": "ad253027-9323-4419-861c-beb9de46cd79",
     "showTitle": false,
     "title": ""
    }
   },
   "outputs": [
    {
     "data": {
      "text/plain": [
       "Out[6]: 139"
      ]
     },
     "metadata": {},
     "output_type": "display_data"
    }
   ],
   "source": [
    "# since there could be more than one female writer writing one movie, the id of the movie has to be selected as distinct\n",
    "(df_crew\n",
    "    .where(\n",
    "        (df_crew.job==\"Writer\") \n",
    "         & (df_crew.gender==1))\n",
    "    .select(\"id\")\n",
    "    .distinct()\n",
    "    .count())"
   ]
  },
  {
   "cell_type": "code",
   "execution_count": null,
   "metadata": {
    "application/vnd.databricks.v1+cell": {
     "inputWidgets": {},
     "nuid": "86dd8618-a927-4111-a624-5407fc308766",
     "showTitle": false,
     "title": ""
    }
   },
   "outputs": [
    {
     "data": {
      "text/plain": [
       "There are 139 movies, which were written by a female writer.\n"
      ]
     },
     "metadata": {},
     "output_type": "display_data"
    }
   ],
   "source": [
    "# nicer option with f-string\n",
    "f_w_movies = df_crew.where((df_crew.job==\"Writer\") & (df_crew.gender==1)).select(\"id\").distinct().count()\n",
    "print(f\"There are {f_w_movies} movies, which were written by a female writer.\")"
   ]
  },
  {
   "cell_type": "markdown",
   "metadata": {},
   "source": [
    "<b> Answer: </b>\\\n",
    "Under the assumption that '1' in the column gender stands for female (2 for male and 0 for the ones, where the gender is not specified), there are 139 movies, which were written by at least one female writer."
   ]
  },
  {
   "cell_type": "markdown",
   "metadata": {
    "application/vnd.databricks.v1+cell": {
     "inputWidgets": {},
     "nuid": "8822eb16-827e-4da4-a631-8c7f82015434",
     "showTitle": false,
     "title": ""
    }
   },
   "source": [
    "*Explain what data storage structure you used to store the information and why. When storing the information how can you speed up the information retrieval if you know you are interested in looking at the gender of the writer?\\\n",
    "Why does it speed up the information retrieval when you store the data differently?*"
   ]
  },
  {
   "cell_type": "markdown",
   "metadata": {
    "application/vnd.databricks.v1+cell": {
     "inputWidgets": {},
     "nuid": "04a7fe0d-18ca-49cf-b515-4dda4e8dd86f",
     "showTitle": false,
     "title": ""
    }
   },
   "source": [
    "<b> Answer: </b>\\\n",
    "For this task I used Apache Parquet Files as data storage structure to store the given information. Apache Parquet is a free and open source, column-oriented data file format designed for efficient data storage and retrieval (definition source: https://parquet.apache.org/). It provides efficient data compression and encoding schemes with enhanced performance to handle complex data in bulk, that's why it's known for both performant data compression and its ability to handle a wide variety of encoding types. Parquet is designed to be a common interchange format for both batch and interactive workloads. It is implemented through using a record shredding and assembly algorithm, which takes into account the complex data structures, that can be used to store the data. When storing data Parquet uses a hybrid model of physical storage layout, which means a combination of columnar and row-wise.\\\n",
    "One of the advantages of Parquet, in contrast to for example CSV, is that column storage files are more lightweight. The reason for that is that in column storage files adequate compression can be done for each column. The column storage architecture allows you to quickly skip data that isn't relevant, which is the reason why queries and aggregations are faster or less time-consuming compared to row-oriented databases. This results in hardware savings, minimizing latency for accessing data as well as saving time and money. Furthermore in each column there are metadata available, which represent for example the minimum, maximum and count of the respective column.\\\n",
    "In addition to that Parquet is best especially for those queries that need to read certain columns from a large table (as processing large volumes of data in the gigabyte range), because Parquet can only read the needed columns therefore greatly minimizing the IO. Parquet also supports nested files and can be compressed as you like, for instance in GZIP, LZO or Snappy. \\\n",
    "So in general Parquet is good for storing big data of any kind (e.g. structured data tables, videos or images), it saves on cloud storage space by using highly efficient column-wise compression and flexible encoding schemes for columns with different data types. Parquet uses different encoding schemes like PLAIN or RLE_DICTIONARY, where the second for example is helpful when having many duplicated and repeated values. This again helps reducing the file size. Furthermore it also supports an increased data throughput and performance using techniques like data skipping, whereby queries that fetch specific column values need not read the entire row of data.\\\n",
    "In summary Parquet is a more efficient data format for bigger files, which is the reason why I used it to store the given movie-information since one of the requirements of this task is to also handle very large amounts of data. \\\n",
    "To speed up the retrieval of specific information you can use the Partitioning of Parquet. With Partitioning you can define how the dataset or rather the data is to be divided into partitions after the columns of the dataset. That means you divide the data into groups (partitions) based on column values, which will improve the performance of queries that restrict results by the partitioned column. For example in this case, when we are looking specifically for the gender of the writer, we could partition after the column 'gender' (e.g. df.write.partitionBy(\"gender\").parquet(\"parquet-gender\")), so that all data with the same gender would be stored in one partition. In this case we could as well partition the dataset after the column 'job', so we would have for instance all writers in one partition. Since in this context we're interested in female writers, a potential Partitioning could be on the column 'gender' and and the column 'job' of the crew dataframe, so the partitioning could look like the following: pf_crew.write.partitionBy(\"gender\", \"job\").parquet(\"gender-job-parquet\"). But since there are many different jobs in this dataset, the partitioning of the column \"job\" might not make that a big difference in the performance of the query. So in general Parquet Partitioning speeds up the information retrieval because all the wanted information is stored in partitions next to each other, when partitioning after gender and job, so the query can read all the potential data searching through the whole dataset."
   ]
  }
 ],
 "metadata": {
  "kernelspec": {
   "display_name": "Python 3.9.7 64-bit ('base': conda)",
   "language": "python",
   "name": "python3"
  },
  "language_info": {
   "name": "python",
   "version": "3.9.7"
  },
  "orig_nbformat": 4,
  "vscode": {
   "interpreter": {
    "hash": "eedbc0dc535c48737cd6555de2640d5e12a8c15981dff35e4ce3fb5ec7467d95"
   }
  }
 },
 "nbformat": 4,
 "nbformat_minor": 2
}
