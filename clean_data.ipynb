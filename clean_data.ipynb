{
 "cells": [
  {
   "cell_type": "code",
   "execution_count": 5,
   "metadata": {},
   "outputs": [],
   "source": [
    "# imports\n",
    "import pandas as pd\n",
    "import numpy as np\n",
    "from collections import defaultdict\n",
    "from tqdm import tqdm\n",
    "import re\n",
    "import json"
   ]
  },
  {
   "cell_type": "code",
   "execution_count": 6,
   "metadata": {},
   "outputs": [],
   "source": [
    "# defining regular expressions for cleaning the data\n",
    "cell_regex = r'\\\",|, \"|},' #\\d,\n",
    "dict_regex = r'\\\":'"
   ]
  },
  {
   "cell_type": "code",
   "execution_count": 7,
   "metadata": {},
   "outputs": [],
   "source": [
    "# reading in the given csv files\n",
    "df_movies = pd.read_csv(\"data/movies_groupA.csv\")\n",
    "df_credits = pd.read_csv(\"data/credits_groupA.csv\")\n",
    "df_recom = pd.read_csv(\"C:/Users/ibele/OneDrive/DHBW/4. Semester/Big Data Storage/Prüfungsleistung/groupA/recommendations_groupA.csv\")"
   ]
  },
  {
   "cell_type": "code",
   "execution_count": 8,
   "metadata": {},
   "outputs": [],
   "source": [
    "def get_normalized_df(df: pd.DataFrame, col: str, key_attribute: str=\"movie_id\") -> pd.DataFrame:\n",
    "    df[col] = df[col].map(json.loads).map(pd.json_normalize)\n",
    "    clean_dfs = [row[col].assign(id=row[key_attribute]) for _, row in df.iterrows()]\n",
    "    df_clean = pd.concat(clean_dfs, ignore_index=True)\n",
    "\n",
    "    return df_clean\n",
    "\n",
    "new_tables = [\n",
    "    (\"production_companies\", df_movies, \"id\"),\n",
    "    (\"spoken_languages\", df_movies, \"id\"),\n",
    "    (\"genres\", df_movies, \"id\"),\n",
    "    (\"cast\", df_credits, \"movie_id\"),\n",
    "    (\"crew\", df_credits, \"movie_id\")\n",
    "]\n",
    "\n",
    "for table, df, id_name in new_tables:\n",
    "    normalized_df = get_normalized_df(df, table, id_name)\n",
    "    normalized_df.to_csv(f\"filtered_data/{table}.csv\", index=False)"
   ]
  },
  {
   "cell_type": "code",
   "execution_count": 9,
   "metadata": {},
   "outputs": [],
   "source": [
    "# safing movies and recoms to the clean / filtered data\n",
    "df_recom.to_csv(\"filtered_data/recom.csv\")\n",
    "df_movies[[\"title\",\"release_date\",\"runtime\",\"revenue\",\"budget\",\"popularity\",\"id\"]].to_csv(\"filtered_data/movies.csv\")"
   ]
  },
  {
   "cell_type": "code",
   "execution_count": 5,
   "metadata": {},
   "outputs": [],
   "source": []
  }
 ],
 "metadata": {
  "kernelspec": {
   "display_name": "Python 3.9.7 64-bit ('base': conda)",
   "language": "python",
   "name": "python3"
  },
  "language_info": {
   "codemirror_mode": {
    "name": "ipython",
    "version": 3
   },
   "file_extension": ".py",
   "mimetype": "text/x-python",
   "name": "python",
   "nbconvert_exporter": "python",
   "pygments_lexer": "ipython3",
   "version": "3.9.7"
  },
  "orig_nbformat": 4,
  "vscode": {
   "interpreter": {
    "hash": "eedbc0dc535c48737cd6555de2640d5e12a8c15981dff35e4ce3fb5ec7467d95"
   }
  }
 },
 "nbformat": 4,
 "nbformat_minor": 2
}
