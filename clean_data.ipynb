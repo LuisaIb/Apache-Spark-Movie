{
 "cells": [
  {
   "cell_type": "code",
   "execution_count": 6,
   "metadata": {},
   "outputs": [],
   "source": [
    "# imports\n",
    "import pandas as pd\n",
    "import json\n",
    "import pyarrow"
   ]
  },
  {
   "cell_type": "code",
   "execution_count": 7,
   "metadata": {},
   "outputs": [],
   "source": [
    "# reading in the given csv files\n",
    "df_movies = pd.read_csv(\"data/movies_groupA.csv\")\n",
    "df_credits = pd.read_csv(\"data/credits_groupA.csv\")\n",
    "df_recom = pd.read_csv(\"C:/Users/ibele/OneDrive/DHBW/4. Semester/Big Data Storage/Prüfungsleistung/groupA/recommendations_groupA.csv\")"
   ]
  },
  {
   "cell_type": "code",
   "execution_count": 8,
   "metadata": {},
   "outputs": [],
   "source": [
    "# method for normalizing the dataframes with json\n",
    "def get_normalized_df(df: pd.DataFrame, col: str, key_attribute: str=\"movie_id\") -> pd.DataFrame:\n",
    "    df[col] = df[col].map(json.loads).map(pd.json_normalize)\n",
    "    clean_dfs = [row[col].assign(id=row[key_attribute]) for _, row in df.iterrows()]\n",
    "    # creating the cleaned dataframe \n",
    "    df_clean = pd.concat(clean_dfs, ignore_index=True)\n",
    "\n",
    "    return df_clean\n",
    "\n",
    "# creating a schema for the cleaned dataframes\n",
    "new_tables = [\n",
    "    (\"production_companies\", df_movies, \"id\"),\n",
    "    (\"spoken_languages\", df_movies, \"id\"),\n",
    "    (\"genres\", df_movies, \"id\"),\n",
    "    (\"cast\", df_credits, \"movie_id\"),\n",
    "    (\"crew\", df_credits, \"movie_id\")\n",
    "]\n",
    "\n",
    "# saving the cleaned dataframes as parquet\n",
    "for table, df, id_name in new_tables:\n",
    "    normalized_df = get_normalized_df(df, table, id_name)\n",
    "    normalized_df.to_parquet(f\"filtered_data/{table}.parquet\", index=False)"
   ]
  },
  {
   "cell_type": "code",
   "execution_count": 9,
   "metadata": {},
   "outputs": [],
   "source": [
    "# saving movies and recoms to the clean / filtered data as parquet\n",
    "df_recom.to_parquet(\"filtered_data/recom.parquet\")\n",
    "df_movies[[\"title\",\"release_date\",\"runtime\",\"revenue\",\"budget\",\"popularity\",\"id\"]].to_parquet(\"filtered_data/movies.parquet\")"
   ]
  }
 ],
 "metadata": {
  "kernelspec": {
   "display_name": "Python 3.9.7 64-bit ('base': conda)",
   "language": "python",
   "name": "python3"
  },
  "language_info": {
   "codemirror_mode": {
    "name": "ipython",
    "version": 3
   },
   "file_extension": ".py",
   "mimetype": "text/x-python",
   "name": "python",
   "nbconvert_exporter": "python",
   "pygments_lexer": "ipython3",
   "version": "3.9.7"
  },
  "orig_nbformat": 4,
  "vscode": {
   "interpreter": {
    "hash": "eedbc0dc535c48737cd6555de2640d5e12a8c15981dff35e4ce3fb5ec7467d95"
   }
  }
 },
 "nbformat": 4,
 "nbformat_minor": 2
}
