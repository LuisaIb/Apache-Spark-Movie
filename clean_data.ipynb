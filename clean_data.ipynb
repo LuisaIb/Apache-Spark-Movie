{
 "cells": [
  {
   "cell_type": "code",
   "execution_count": 1,
   "metadata": {},
   "outputs": [],
   "source": [
    "# imports\n",
    "import pandas as pd\n",
    "import numpy as np\n",
    "from collections import defaultdict\n",
    "from tqdm import tqdm\n",
    "import re"
   ]
  },
  {
   "cell_type": "code",
   "execution_count": null,
   "metadata": {},
   "outputs": [],
   "source": [
    "# defining regular expressions for cleaning the data\n",
    "cell_regex = r'\\\",|, \"|},' #\\d,\n",
    "dict_regex = r'\\\":'"
   ]
  },
  {
   "cell_type": "code",
   "execution_count": 2,
   "metadata": {},
   "outputs": [],
   "source": [
    "# function for\n",
    "def get_normalized_df(df: pd.DataFrame, col: str, keys: list[str], key_attribute: str=\"movie_id\") -> pd.DataFrame:\n",
    "    df_copy = df.copy()\n",
    "    df_copy[col] = df_copy[col].map(clean_cell)\n",
    "\n",
    "    clean_dfs = []\n",
    "    for i, row in df_copy.iterrows():\n",
    "        movie_id = row[key_attribute]\n",
    "        df_new = pd.DataFrame()\n",
    "        for key in keys:\n",
    "            df_new[key] = [sub_row[key] for sub_row in row[col]]\n",
    "        df_new[\"id\"] = [movie_id]*len(df_new)\n",
    "        clean_dfs += [df_new]\n",
    "    df_clean = pd.concat(clean_dfs, ignore_index=True)\n",
    "\n",
    "    return df_clean\n",
    "\n",
    "trim_string = lambda string: \"\".join([c for c in string if c.isdigit() or c.isalpha() or c==\" \"]).strip()\n",
    "\n",
    "# function for\n",
    "def clean_cell(string: str) -> list[dict[str, str]]:\n",
    "    if len(string)==2: return []\n",
    "    n_keys = int(string.count(\":\")/string.count(\"}\"))\n",
    "    d, l = defaultdict(lambda: None), []\n",
    "    rows = re.split(cell_regex, string)\n",
    "    for i, cell in enumerate(rows):\n",
    "        k, v = re.split(dict_regex, cell)\n",
    "        k, v = trim_string(k), trim_string(v)\n",
    "        d[k] = v\n",
    "            \n",
    "        if (i+1) % n_keys == 0:\n",
    "            l.append(d)\n",
    "            d = defaultdict(lambda: None)\n",
    "    return l"
   ]
  },
  {
   "cell_type": "code",
   "execution_count": 4,
   "metadata": {},
   "outputs": [],
   "source": [
    "# reading in the given csv files\n",
    "df_movies = pd.read_csv(\"data/movies_groupA.csv\")\n",
    "df_credits = pd.read_csv(\"data/credits_groupA.csv\")\n",
    "df_recom = pd.read_csv(\"C:/Users/ibele/OneDrive/DHBW/4. Semester/Big Data Storage/Prüfungsleistung/groupA/recommendations.csv\")"
   ]
  },
  {
   "cell_type": "code",
   "execution_count": 5,
   "metadata": {},
   "outputs": [],
   "source": [
    "# safing movies and recoms to the clean / filtered data\n",
    "df_recom.to_csv(\"filtered_data/recom.csv\")\n",
    "df_movies[[\"title\",\"release_date\",\"runtime\",\"revenue\",\"budget\",\"popularity\",\"id\"]].to_csv(\"filtered_data/movies.csv\")"
   ]
  },
  {
   "cell_type": "code",
   "execution_count": 6,
   "metadata": {},
   "outputs": [],
   "source": [
    "new_tables = {\n",
    "    \"spoken_languages\": (df_movies, \"id\", [\"name\"]),\n",
    "    \"genres\": (df_movies, \"id\", [\"name\"]),\n",
    "    \"cast\": (df_credits, \"movie_id\", [\"name\", \"character\", \"gender\"]),\n",
    "    \"crew\": (df_credits, \"movie_id\", [\"name\", \"job\", \"gender\"])\n",
    "}\n",
    "for table, (df, id_name, cols) in new_tables.items():\n",
    "    normalized_df = get_normalized_df(df, table, cols, id_name)\n",
    "    normalized_df.to_csv(f\"filtered_data/{table}.csv\", index=False)"
   ]
  }
 ],
 "metadata": {
  "kernelspec": {
   "display_name": "Python 3.9.7 64-bit ('base': conda)",
   "language": "python",
   "name": "python3"
  },
  "language_info": {
   "codemirror_mode": {
    "name": "ipython",
    "version": 3
   },
   "file_extension": ".py",
   "mimetype": "text/x-python",
   "name": "python",
   "nbconvert_exporter": "python",
   "pygments_lexer": "ipython3",
   "version": "3.9.7"
  },
  "orig_nbformat": 4,
  "vscode": {
   "interpreter": {
    "hash": "eedbc0dc535c48737cd6555de2640d5e12a8c15981dff35e4ce3fb5ec7467d95"
   }
  }
 },
 "nbformat": 4,
 "nbformat_minor": 2
}
